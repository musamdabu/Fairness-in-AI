{
  "nbformat": 4,
  "nbformat_minor": 0,
  "metadata": {
    "colab": {
      "name": "Fairness in AI.ipynb",
      "provenance": [],
      "collapsed_sections": [],
      "authorship_tag": "ABX9TyNEe3NNAIkdgzY9Qb1Sh6U3",
      "include_colab_link": true
    },
    "kernelspec": {
      "name": "python3",
      "display_name": "Python 3"
    },
    "language_info": {
      "name": "python"
    }
  },
  "cells": [
    {
      "cell_type": "markdown",
      "metadata": {
        "id": "view-in-github",
        "colab_type": "text"
      },
      "source": [
        "<a href=\"https://colab.research.google.com/github/musamdabu/Fairness-in-AI/blob/main/Fairness_in_AI.ipynb\" target=\"_parent\"><img src=\"https://colab.research.google.com/assets/colab-badge.svg\" alt=\"Open In Colab\"/></a>"
      ]
    },
    {
      "cell_type": "code",
      "execution_count": null,
      "metadata": {
        "id": "e5zXqrJ6pD3f"
      },
      "outputs": [],
      "source": [
        "# Installing necessary packages\n",
        "!pip install aif360\n",
        "!pip install fairlearn\n",
        "!pip install common-utils"
      ]
    },
    {
      "cell_type": "code",
      "source": [
        "%matplotlib inline\n",
        "# Load all necessary packages\n",
        "import sys\n",
        "sys.path.append(\"../\")\n",
        "import numpy as np\n",
        "from tqdm import tqdm\n",
        "from warnings import warn\n",
        "\n",
        "from aif360.datasets import BinaryLabelDataset\n",
        "from aif360.datasets import AdultDataset, GermanDataset\n",
        "from aif360.metrics import BinaryLabelDatasetMetric\n",
        "from aif360.metrics import ClassificationMetric\n",
        "from aif360.metrics.utils import compute_boolean_conditioning_vector\n",
        "from aif360.algorithms.preprocessing.reweighing import Reweighing\n",
        "from aif360.algorithms.preprocessing.optim_preproc_helpers.data_preproc_functions\\\n",
        "        import load_preproc_data_adult, load_preproc_data_german, load_preproc_data_compas\n",
        "from aif360.algorithms.postprocessing.reject_option_classification\\\n",
        "        import RejectOptionClassification\n",
        "from sklearn.linear_model import LogisticRegression\n",
        "from sklearn.preprocessing import StandardScaler\n",
        "from sklearn.metrics import accuracy_score\n",
        "\n",
        "from IPython.display import Markdown, display\n",
        "import matplotlib.pyplot as plt\n",
        "from ipywidgets import interactive, FloatSlider\n",
        "from collections import OrderedDict"
      ],
      "metadata": {
        "id": "UWd03isxpUUb"
      },
      "execution_count": null,
      "outputs": []
    },
    {
      "cell_type": "code",
      "source": [
        "## Importing dataset\n",
        "dataset_used = \"adult\" # \"adult\", \"compas\"\n",
        "protected_attribute_used = 2 # 1, 2\n",
        "\n",
        "\n",
        "if dataset_used == \"adult\":\n",
        "#     dataset_orig = AdultDataset()\n",
        "    if protected_attribute_used == 1:\n",
        "        privileged_groups = [{'sex': 1}]\n",
        "        unprivileged_groups = [{'sex': 0}]\n",
        "        dataset_original = load_preproc_data_adult(['sex'])\n",
        "\n",
        "    else:\n",
        "        privileged_groups = [{'race': 1}]\n",
        "        unprivileged_groups = [{'race': 0}]\n",
        "        dataset_original = load_preproc_data_adult(['race'])\n",
        "    \n",
        "elif dataset_used == \"compas\":\n",
        "#     dataset_orig = COMPASDataset()\n",
        "    if protected_attribute_used == 1:\n",
        "        privileged_groups = [{'sex': 1}]\n",
        "        unprivileged_groups = [{'sex': 0}]\n",
        "        dataset_original = load_preproc_data_compas(['sex'])\n",
        "    else:\n",
        "        privileged_groups = [{'race': 1}]\n",
        "        unprivileged_groups = [{'race': 0}]\n",
        "        dataset_original = load_preproc_data_compas(['race'])\n",
        "\n",
        "#random seed for calibrated equal odds prediction\n",
        "np.random.seed(1)"
      ],
      "metadata": {
        "id": "6lvxZDsQEzCY"
      },
      "execution_count": null,
      "outputs": []
    },
    {
      "cell_type": "code",
      "source": [
        "# Get the dataset and split into train and test\n",
        "dataset_orig = dataset_original.copy()\n",
        "dataset_orig_train, dataset_orig_vt = dataset_orig.split([0.7], shuffle=True)\n",
        "dataset_orig_valid, dataset_orig_test = dataset_orig_vt.split([0.5], shuffle=True)\n"
      ],
      "metadata": {
        "id": "sB-jbqeQE_6y"
      },
      "execution_count": null,
      "outputs": []
    },
    {
      "cell_type": "code",
      "source": [
        "# Print out some of the basic info ex. labels, names, etc.\n",
        "display(Markdown(\"#### Training Dataset shape\"))\n",
        "print(dataset_orig_train.features.shape)\n",
        "display(Markdown(\"#### Favorable and unfavorable labels\"))\n",
        "print(dataset_orig_train.favorable_label, dataset_orig_train.unfavorable_label)\n",
        "display(Markdown(\"#### Protected attribute names\"))\n",
        "print(dataset_orig_train.protected_attribute_names)\n",
        "display(Markdown(\"#### Privileged and unprivileged protected attribute values\"))\n",
        "print(dataset_orig_train.privileged_protected_attributes, \n",
        "      dataset_orig_train.unprivileged_protected_attributes)\n",
        "display(Markdown(\"#### Dataset feature names\"))\n",
        "print(dataset_orig_train.feature_names)"
      ],
      "metadata": {
        "id": "4sVezHMzFhRb",
        "outputId": "35215076-a7ee-4048-8036-f6f135efe095",
        "colab": {
          "base_uri": "https://localhost:8080/",
          "height": 323
        }
      },
      "execution_count": null,
      "outputs": [
        {
          "output_type": "display_data",
          "data": {
            "text/plain": [
              "<IPython.core.display.Markdown object>"
            ],
            "text/markdown": "#### Training Dataset shape"
          },
          "metadata": {}
        },
        {
          "output_type": "stream",
          "name": "stdout",
          "text": [
            "(34189, 18)\n"
          ]
        },
        {
          "output_type": "display_data",
          "data": {
            "text/plain": [
              "<IPython.core.display.Markdown object>"
            ],
            "text/markdown": "#### Favorable and unfavorable labels"
          },
          "metadata": {}
        },
        {
          "output_type": "stream",
          "name": "stdout",
          "text": [
            "1.0 0.0\n"
          ]
        },
        {
          "output_type": "display_data",
          "data": {
            "text/plain": [
              "<IPython.core.display.Markdown object>"
            ],
            "text/markdown": "#### Protected attribute names"
          },
          "metadata": {}
        },
        {
          "output_type": "stream",
          "name": "stdout",
          "text": [
            "['race']\n"
          ]
        },
        {
          "output_type": "display_data",
          "data": {
            "text/plain": [
              "<IPython.core.display.Markdown object>"
            ],
            "text/markdown": "#### Privileged and unprivileged protected attribute values"
          },
          "metadata": {}
        },
        {
          "output_type": "stream",
          "name": "stdout",
          "text": [
            "[array([1.])] [array([0.])]\n"
          ]
        },
        {
          "output_type": "display_data",
          "data": {
            "text/plain": [
              "<IPython.core.display.Markdown object>"
            ],
            "text/markdown": "#### Dataset feature names"
          },
          "metadata": {}
        },
        {
          "output_type": "stream",
          "name": "stdout",
          "text": [
            "['race', 'sex', 'Age (decade)=10', 'Age (decade)=20', 'Age (decade)=30', 'Age (decade)=40', 'Age (decade)=50', 'Age (decade)=60', 'Age (decade)=>=70', 'Education Years=6', 'Education Years=7', 'Education Years=8', 'Education Years=9', 'Education Years=10', 'Education Years=11', 'Education Years=12', 'Education Years=<6', 'Education Years=>12']\n"
          ]
        }
      ]
    },
    {
      "cell_type": "code",
      "source": [
        "# Metric for the original dataset\n",
        "metric_orig_train = BinaryLabelDatasetMetric(dataset_orig_train, \n",
        "                                             unprivileged_groups=unprivileged_groups,\n",
        "                                             privileged_groups=privileged_groups)\n",
        "display(Markdown(\"#### Original training dataset\"))\n",
        "print(\"Difference in mean outcomes between unprivileged and privileged groups = %f\" % metric_orig_train.mean_difference())"
      ],
      "metadata": {
        "colab": {
          "base_uri": "https://localhost:8080/",
          "height": 74
        },
        "id": "Gg-XLBLoFjct",
        "outputId": "58f1bc11-77a4-4ecf-bef4-5e005d77c442"
      },
      "execution_count": null,
      "outputs": [
        {
          "output_type": "display_data",
          "data": {
            "text/plain": [
              "<IPython.core.display.Markdown object>"
            ],
            "text/markdown": "#### Original training dataset"
          },
          "metadata": {}
        },
        {
          "output_type": "stream",
          "name": "stdout",
          "text": [
            "Difference in mean outcomes between unprivileged and privileged groups = -0.097036\n"
          ]
        }
      ]
    },
    {
      "cell_type": "code",
      "source": [
        "# Transforming training data by reweighing \n",
        "RW = Reweighing(unprivileged_groups=unprivileged_groups,\n",
        "               privileged_groups=privileged_groups)\n",
        "RW.fit(dataset_orig_train)\n",
        "dataset_transf_train = RW.transform(dataset_orig_train)"
      ],
      "metadata": {
        "id": "BJTQCm4AFmNy"
      },
      "execution_count": null,
      "outputs": []
    },
    {
      "cell_type": "code",
      "source": [
        "### Testing if the transformation has not become worse\n",
        "assert np.abs(dataset_transf_train.instance_weights.sum()-dataset_orig_train.instance_weights.sum())<1e-6"
      ],
      "metadata": {
        "id": "jDr2fRi1Foo3"
      },
      "execution_count": null,
      "outputs": []
    },
    {
      "cell_type": "code",
      "source": [
        "metric_transf_train = BinaryLabelDatasetMetric(dataset_transf_train, \n",
        "                                         unprivileged_groups=unprivileged_groups,\n",
        "                                         privileged_groups=privileged_groups)\n",
        "display(Markdown(\"#### Transformed training dataset\"))\n",
        "print(\"Difference in mean outcomes between unprivileged and privileged groups = %f\" % metric_transf_train.mean_difference())"
      ],
      "metadata": {
        "colab": {
          "base_uri": "https://localhost:8080/",
          "height": 74
        },
        "id": "tYGdqSASFquC",
        "outputId": "5b9adbf3-1cfc-4816-cab0-9a084501fbe5"
      },
      "execution_count": null,
      "outputs": [
        {
          "output_type": "display_data",
          "data": {
            "text/plain": [
              "<IPython.core.display.Markdown object>"
            ],
            "text/markdown": "#### Transformed training dataset"
          },
          "metadata": {}
        },
        {
          "output_type": "stream",
          "name": "stdout",
          "text": [
            "Difference in mean outcomes between unprivileged and privileged groups = 0.000000\n"
          ]
        }
      ]
    },
    {
      "cell_type": "code",
      "source": [
        "### Testing \n",
        "assert np.abs(metric_transf_train.mean_difference()) < 1e-6"
      ],
      "metadata": {
        "id": "x9Mm2y7aFsdd"
      },
      "execution_count": null,
      "outputs": []
    },
    {
      "cell_type": "code",
      "source": [
        "# Logistic regression classifier and predictions\n",
        "scale_orig = StandardScaler()\n",
        "X_train = scale_orig.fit_transform(dataset_orig_train.features)\n",
        "y_train = dataset_orig_train.labels.ravel()\n",
        "w_train = dataset_orig_train.instance_weights.ravel()\n",
        "\n",
        "lmod = LogisticRegression()\n",
        "lmod.fit(X_train, y_train, \n",
        "         sample_weight=dataset_orig_train.instance_weights)\n",
        "y_train_pred = lmod.predict(X_train)\n",
        "\n",
        "# positive class index\n",
        "pos_ind = np.where(lmod.classes_ == dataset_orig_train.favorable_label)[0][0]\n",
        "\n",
        "dataset_orig_train_pred = dataset_orig_train.copy()\n",
        "dataset_orig_train_pred.labels = y_train_pred"
      ],
      "metadata": {
        "id": "f0PQxLJ7Fvd3"
      },
      "execution_count": null,
      "outputs": []
    },
    {
      "cell_type": "code",
      "source": [
        "# Obtain scores for original validation and test sets\n",
        "dataset_orig_valid_pred = dataset_orig_valid.copy(deepcopy=True)\n",
        "X_valid = scale_orig.transform(dataset_orig_valid_pred.features)\n",
        "y_valid = dataset_orig_valid_pred.labels\n",
        "dataset_orig_valid_pred.scores = lmod.predict_proba(X_valid)[:,pos_ind].reshape(-1,1)\n",
        "\n",
        "dataset_orig_test_pred = dataset_orig_test.copy(deepcopy=True)\n",
        "X_test = scale_orig.transform(dataset_orig_test_pred.features)\n",
        "y_test = dataset_orig_test_pred.labels\n",
        "dataset_orig_test_pred.scores = lmod.predict_proba(X_test)[:,pos_ind].reshape(-1,1)"
      ],
      "metadata": {
        "id": "4feGwgw5Fxvf"
      },
      "execution_count": null,
      "outputs": []
    },
    {
      "cell_type": "code",
      "source": [
        "# Find the optimal classification threshold from the validation set\n",
        "num_thresh = 100\n",
        "ba_arr = np.zeros(num_thresh)\n",
        "class_thresh_arr = np.linspace(0.01, 0.99, num_thresh)\n",
        "for idx, class_thresh in enumerate(class_thresh_arr):\n",
        "    \n",
        "    fav_inds = dataset_orig_valid_pred.scores > class_thresh\n",
        "    dataset_orig_valid_pred.labels[fav_inds] = dataset_orig_valid_pred.favorable_label\n",
        "    dataset_orig_valid_pred.labels[~fav_inds] = dataset_orig_valid_pred.unfavorable_label\n",
        "    \n",
        "    classified_metric_orig_valid = ClassificationMetric(dataset_orig_valid,\n",
        "                                             dataset_orig_valid_pred, \n",
        "                                             unprivileged_groups=unprivileged_groups,\n",
        "                                             privileged_groups=privileged_groups)\n",
        "    \n",
        "    ba_arr[idx] = 0.5*(classified_metric_orig_valid.true_positive_rate()\\\n",
        "                       +classified_metric_orig_valid.true_negative_rate())\n",
        "\n",
        "best_ind = np.where(ba_arr == np.max(ba_arr))[0][0]\n",
        "best_class_thresh = class_thresh_arr[best_ind]\n",
        "\n",
        "print(\"Best balanced accuracy (no reweighing) = %.4f\" % np.max(ba_arr))\n",
        "print(\"Optimal classification threshold (no reweighing) = %.4f\" % best_class_thresh)"
      ],
      "metadata": {
        "colab": {
          "base_uri": "https://localhost:8080/"
        },
        "id": "tiTgipsBF0gy",
        "outputId": "402dc541-9f04-4410-99d4-62e9c69962d9"
      },
      "execution_count": null,
      "outputs": [
        {
          "output_type": "stream",
          "name": "stdout",
          "text": [
            "Best balanced accuracy (no reweighing) = 0.7463\n",
            "Optimal classification threshold (no reweighing) = 0.2872\n"
          ]
        }
      ]
    },
    {
      "cell_type": "code",
      "source": [
        "\n",
        "def compute_metrics(dataset_true, dataset_pred, \n",
        "                    unprivileged_groups, privileged_groups,\n",
        "                    disp = True):\n",
        "    \"\"\" Compute the key metrics \"\"\"\n",
        "    classified_metric_pred = ClassificationMetric(dataset_true,\n",
        "                                                 dataset_pred, \n",
        "                                                 unprivileged_groups=unprivileged_groups,\n",
        "                                                 privileged_groups=privileged_groups)\n",
        "    metrics = OrderedDict()\n",
        "    metrics[\"Balanced accuracy\"] = 0.5*(classified_metric_pred.true_positive_rate()+\n",
        "                                             classified_metric_pred.true_negative_rate())\n",
        "    metrics[\"Statistical parity difference\"] = classified_metric_pred.statistical_parity_difference()\n",
        "    metrics[\"Average odds difference\"] = classified_metric_pred.average_odds_difference()\n",
        "    metrics[\"Equal opportunity difference\"] = classified_metric_pred.equal_opportunity_difference()\n",
        "    \n",
        "    \n",
        "    if disp:\n",
        "        for k in metrics:\n",
        "            print(\"%s = %.4f\" % (k, metrics[k]))\n",
        "    \n",
        "    return metrics"
      ],
      "metadata": {
        "id": "GydE4kJlGB_u"
      },
      "execution_count": null,
      "outputs": []
    },
    {
      "cell_type": "code",
      "source": [
        "# Predictions from original testing data or the default classifier\n",
        "display(Markdown(\"#### Predictions from original testing data\"))\n",
        "bal_acc_arr_orig = []\n",
        "avg_odds_diff_arr_orig = []\n",
        "stat_par_diff_arr_orig = []\n",
        "eq_opp_diff_arr_orig = []\n",
        "\n",
        "print(\"Classification threshold used = %.4f\" % best_class_thresh)\n",
        "for thresh in tqdm(class_thresh_arr):\n",
        "    \n",
        "    if thresh == best_class_thresh:\n",
        "        disp = True\n",
        "    else:\n",
        "        disp = False\n",
        "    \n",
        "    fav_inds = dataset_orig_test_pred.scores > thresh\n",
        "    dataset_orig_test_pred.labels[fav_inds] = dataset_orig_test_pred.favorable_label\n",
        "    dataset_orig_test_pred.labels[~fav_inds] = dataset_orig_test_pred.unfavorable_label\n",
        "    \n",
        "    metric_test_bef = compute_metrics(dataset_orig_test, dataset_orig_test_pred, \n",
        "                                      unprivileged_groups, privileged_groups,\n",
        "                                      disp = disp)\n",
        "\n",
        "    bal_acc_arr_orig.append(metric_test_bef[\"Balanced accuracy\"])\n",
        "    avg_odds_diff_arr_orig.append(metric_test_bef[\"Average odds difference\"])\n",
        "    stat_par_diff_arr_orig.append(metric_test_bef[\"Statistical parity difference\"])\n",
        "    eq_opp_diff_arr_orig.append(metric_test_bef[\"Equal opportunity difference\"])"
      ],
      "metadata": {
        "colab": {
          "base_uri": "https://localhost:8080/",
          "height": 161
        },
        "id": "wvEfU9V_F20E",
        "outputId": "fed630ac-1e3d-4c06-c105-2f93920c43ef"
      },
      "execution_count": null,
      "outputs": [
        {
          "output_type": "display_data",
          "data": {
            "text/plain": [
              "<IPython.core.display.Markdown object>"
            ],
            "text/markdown": "#### Predictions from original testing data"
          },
          "metadata": {}
        },
        {
          "output_type": "stream",
          "name": "stdout",
          "text": [
            "Classification threshold used = 0.2872\n"
          ]
        },
        {
          "output_type": "stream",
          "name": "stderr",
          "text": [
            " 45%|████▌     | 45/100 [00:00<00:00, 135.66it/s]"
          ]
        },
        {
          "output_type": "stream",
          "name": "stdout",
          "text": [
            "Balanced accuracy = 0.7437\n",
            "Statistical parity difference = -0.2435\n",
            "Average odds difference = -0.1966\n",
            "Equal opportunity difference = -0.2020\n"
          ]
        },
        {
          "output_type": "stream",
          "name": "stderr",
          "text": [
            "100%|██████████| 100/100 [00:00<00:00, 141.10it/s]\n"
          ]
        }
      ]
    },
    {
      "cell_type": "code",
      "source": [
        "# Graph showing the optimal threshold and fairness metric values for default classifier\n",
        "fig, ax1 = plt.subplots(figsize=(8,4))\n",
        "ax1.plot(class_thresh_arr, bal_acc_arr_orig)\n",
        "ax1.set_xlabel('Classification Thresholds', fontsize=10, fontweight='bold')\n",
        "ax1.set_ylabel('Balanced Accuracy', color='k', fontsize=10, fontweight='bold')\n",
        "ax1.xaxis.set_tick_params(labelsize=10)\n",
        "ax1.yaxis.set_tick_params(labelsize=10)\n",
        "\n",
        "\n",
        "ax2 = ax1.twinx()\n",
        "ax2.plot(class_thresh_arr, stat_par_diff_arr_orig, color='c')\n",
        "ax2.plot(class_thresh_arr, avg_odds_diff_arr_orig, color='b')\n",
        "ax2.plot(class_thresh_arr,eq_opp_diff_arr_orig , color='y')\n",
        "ax2.axvline(best_class_thresh, color='r', linestyle=':')\n",
        "ax2.yaxis.set_tick_params(labelsize=10)\n",
        "leg = ax2.legend(labels = ['Statitical Parity Difference', 'Average Odds Difference', 'Equal Opportunity Difference'],bbox_to_anchor=(0.5, -.15),  loc='upper center', fontsize='small')\n",
        "ax2.grid(True)\n",
        "display(Markdown(\"#### For Default Classifier\"))"
      ],
      "metadata": {
        "colab": {
          "base_uri": "https://localhost:8080/",
          "height": 327
        },
        "id": "fZ35EerjPvXV",
        "outputId": "bf46532d-ebb6-4784-b500-7e547b617978"
      },
      "execution_count": null,
      "outputs": [
        {
          "output_type": "display_data",
          "data": {
            "text/plain": [
              "<Figure size 576x288 with 2 Axes>"
            ],
            "image/png": "[encoded data removed]"
          },
          "metadata": {
            "needs_background": "light"
          }
        }
      ]
    },
    {
      "cell_type": "code",
      "source": [
        "# Train classifier on tranformed data or fair classifier (reweighing)\n",
        "scale_transf = StandardScaler()\n",
        "X_train = scale_transf.fit_transform(dataset_transf_train.features)\n",
        "y_train = dataset_transf_train.labels.ravel()\n",
        "\n",
        "lmod = LogisticRegression()\n",
        "lmod.fit(X_train, y_train,\n",
        "        sample_weight=dataset_transf_train.instance_weights)\n",
        "y_train_pred = lmod.predict(X_train)"
      ],
      "metadata": {
        "id": "ndEYgY4tGKzu"
      },
      "execution_count": null,
      "outputs": []
    },
    {
      "cell_type": "code",
      "source": [
        "# Obtain scores for transformed test set\n",
        "dataset_transf_test_pred = dataset_orig_test.copy(deepcopy=True)\n",
        "X_test = scale_transf.fit_transform(dataset_transf_test_pred.features)\n",
        "y_test = dataset_transf_test_pred.labels\n",
        "dataset_transf_test_pred.scores = lmod.predict_proba(X_test)[:,pos_ind].reshape(-1,1)"
      ],
      "metadata": {
        "id": "67Nc3QsfGSW0"
      },
      "execution_count": null,
      "outputs": []
    },
    {
      "cell_type": "code",
      "source": [
        "#Predictions from the transformed test set at the optimal classification threshold\n",
        "display(Markdown(\"#### Predictions from transformed testing data\"))\n",
        "bal_acc_arr_transf = []\n",
        "avg_odds_diff_arr_transf = []\n",
        "stat_par_diff_arr_transf = []\n",
        "eq_opp_diff_arr_transf = []\n",
        "print(\"Classification threshold used = %.4f\" % best_class_thresh)\n",
        "for thresh in tqdm(class_thresh_arr):\n",
        "    \n",
        "    if thresh == best_class_thresh:\n",
        "        disp = True\n",
        "    else:\n",
        "        disp = False\n",
        "    \n",
        "    fav_inds = dataset_transf_test_pred.scores > thresh\n",
        "    dataset_transf_test_pred.labels[fav_inds] = dataset_transf_test_pred.favorable_label\n",
        "    dataset_transf_test_pred.labels[~fav_inds] = dataset_transf_test_pred.unfavorable_label\n",
        "    \n",
        "    metric_test_aft = compute_metrics(dataset_orig_test, dataset_transf_test_pred, \n",
        "                                      unprivileged_groups, privileged_groups,\n",
        "                                      disp = disp)\n",
        "\n",
        "    bal_acc_arr_transf.append(metric_test_aft[\"Balanced accuracy\"])\n",
        "    avg_odds_diff_arr_transf.append(metric_test_aft[\"Average odds difference\"])\n",
        "    stat_par_diff_arr_transf.append(metric_test_aft[\"Statistical parity difference\"])\n",
        "    eq_opp_diff_arr_transf.append(metric_test_aft[\"Equal opportunity difference\"])"
      ],
      "metadata": {
        "colab": {
          "base_uri": "https://localhost:8080/",
          "height": 166
        },
        "id": "UtxpxMtzGVb2",
        "outputId": "94264246-e996-49fe-db65-ac7aeaa5eace"
      },
      "execution_count": null,
      "outputs": [
        {
          "output_type": "display_data",
          "data": {
            "text/plain": [
              "<IPython.core.display.Markdown object>"
            ],
            "text/markdown": "#### Predictions from transformed testing data"
          },
          "metadata": {}
        },
        {
          "output_type": "stream",
          "name": "stdout",
          "text": [
            "Classification threshold used = 0.2872\n"
          ]
        },
        {
          "output_type": "stream",
          "name": "stderr",
          "text": [
            " 49%|████▉     | 49/100 [00:00<00:00, 118.63it/s]"
          ]
        },
        {
          "output_type": "stream",
          "name": "stdout",
          "text": [
            "Balanced accuracy = 0.7134\n",
            "Statistical parity difference = -0.0705\n",
            "Average odds difference = 0.0188\n",
            "Equal opportunity difference = 0.0293\n"
          ]
        },
        {
          "output_type": "stream",
          "name": "stderr",
          "text": [
            "100%|██████████| 100/100 [00:00<00:00, 121.07it/s]\n"
          ]
        }
      ]
    },
    {
      "cell_type": "code",
      "source": [
        "# Graph showing the optimal threshold and fairness metric values for fair classifier (reweighing)\n",
        "fig, ax1 = plt.subplots(figsize=(8,4))\n",
        "ax1.plot(class_thresh_arr, bal_acc_arr_transf)\n",
        "ax1.set_xlabel('Classification Thresholds', fontsize=10, fontweight='bold')\n",
        "ax1.set_ylabel('Balanced Accuracy', color='k', fontsize=10, fontweight='bold')\n",
        "ax1.xaxis.set_tick_params(labelsize=10)\n",
        "ax1.yaxis.set_tick_params(labelsize=10)\n",
        "\n",
        "\n",
        "ax2 = ax1.twinx()\n",
        "ax2.plot(class_thresh_arr, stat_par_diff_arr_transf, color='c')\n",
        "ax2.plot(class_thresh_arr, avg_odds_diff_arr_transf, color='b')\n",
        "ax2.plot(class_thresh_arr,eq_opp_diff_arr_transf , color='y')\n",
        "ax2.axvline(best_class_thresh, color='r', linestyle=':')\n",
        "ax2.yaxis.set_tick_params(labelsize=10)\n",
        "leg = ax2.legend(labels = ['Statitical Parity Difference', 'Average Odds Difference', 'Equal Opportunity Difference'],bbox_to_anchor=(0.5, -.15),  loc='upper center', fontsize='small')\n",
        "ax2.grid(True)"
      ],
      "metadata": {
        "colab": {
          "base_uri": "https://localhost:8080/",
          "height": 327
        },
        "id": "vraO__YmyUDN",
        "outputId": "97b9d1d5-85f5-475d-d572-065bde8a885e"
      },
      "execution_count": null,
      "outputs": [
        {
          "output_type": "display_data",
          "data": {
            "text/plain": [
              "<Figure size 576x288 with 2 Axes>"
            ],
            "image/png": "[encoded data removed]"
          },
          "metadata": {
            "needs_background": "light"
          }
        }
      ]
    },
    {
      "cell_type": "code",
      "source": [
        "#Reject_option_classification\n",
        "\n",
        "# Metric used (should be one of allowed_metrics)\n",
        "allowed_metrics =  [\"Statistical parity difference\",\n",
        "                   \"Average odds difference\",\n",
        "                   \"Equal opportunity difference\"]\n",
        "\n",
        "metric_name = \"Statistical parity difference\"\n",
        "if metric_name not in allowed_metrics:\n",
        "    raise ValueError(\"Metric name should be one of allowed metrics\")\n",
        "# Upper and lower bound on the fairness metric used\n",
        "metric_ub = 0.05\n",
        "metric_lb = -0.05"
      ],
      "metadata": {
        "id": "qdD3IUpEYQSB"
      },
      "execution_count": null,
      "outputs": []
    },
    {
      "cell_type": "code",
      "source": [
        "# Get the dataset and split into train and test\n",
        "dataset_orig_train_post = dataset_orig_train.copy()\n",
        "dataset_orig_valid_post = dataset_orig_valid.copy()\n",
        "dataset_orig_test_post = dataset_orig_test.copy()\n"
      ],
      "metadata": {
        "id": "q4tQutCUGgWt"
      },
      "execution_count": null,
      "outputs": []
    },
    {
      "cell_type": "code",
      "source": [
        "# Logistic regression classifier and predictions\n",
        "scale_orig = StandardScaler()\n",
        "X_train_post = scale_orig.fit_transform(dataset_orig_train_post.features)\n",
        "y_train_post = dataset_orig_train_post.labels.ravel()\n",
        "\n",
        "lmod = LogisticRegression()\n",
        "lmod.fit(X_train_post, y_train_post)\n",
        "y_train_pred_post = lmod.predict(X_train_post)\n",
        "\n",
        "# positive class index\n",
        "pos_ind = np.where(lmod.classes_ == dataset_orig_train_post.favorable_label)[0][0]\n",
        "\n",
        "dataset_orig_train_pred_post = dataset_orig_train_post.copy(deepcopy=True)\n",
        "dataset_orig_train_pred_post.labels = y_train_pred_post"
      ],
      "metadata": {
        "id": "TCijjHI_VAH4"
      },
      "execution_count": null,
      "outputs": []
    },
    {
      "cell_type": "code",
      "source": [
        "dataset_orig_valid_pred_post = dataset_orig_valid_post.copy(deepcopy=True)\n",
        "X_valid_post = scale_orig.transform(dataset_orig_valid_pred_post.features)\n",
        "y_valid_post = dataset_orig_valid_pred_post.labels\n",
        "dataset_orig_valid_pred_post.scores = lmod.predict_proba(X_valid_post)[:,pos_ind].reshape(-1,1)\n",
        "\n",
        "dataset_orig_test_pred_post = dataset_orig_test_post.copy(deepcopy=True)\n",
        "X_test_post = scale_orig.transform(dataset_orig_test_pred_post.features)\n",
        "y_test_post = dataset_orig_test_pred_post.labels\n",
        "dataset_orig_test_pred_post.scores = lmod.predict_proba(X_test_post)[:,pos_ind].reshape(-1,1)\n"
      ],
      "metadata": {
        "id": "O1asssv3VfCl"
      },
      "execution_count": null,
      "outputs": []
    },
    {
      "cell_type": "code",
      "source": [
        "num_thresh = 100\n",
        "ba_arr_post = np.zeros(num_thresh)\n",
        "class_thresh_arr_post = np.linspace(0.01, 0.99, num_thresh)\n",
        "for idx, class_thresh_post in enumerate(class_thresh_arr_post):\n",
        "    \n",
        "    fav_inds_post = dataset_orig_valid_pred_post.scores > class_thresh_post\n",
        "    dataset_orig_valid_pred_post.labels[fav_inds_post] = dataset_orig_valid_pred_post.favorable_label\n",
        "    dataset_orig_valid_pred_post.labels[~fav_inds_post] = dataset_orig_valid_pred_post.unfavorable_label\n",
        "    \n",
        "    classified_metric_orig_valid_post = ClassificationMetric(dataset_orig_valid_post,\n",
        "                                             dataset_orig_valid_pred_post, \n",
        "                                             unprivileged_groups=unprivileged_groups,\n",
        "                                             privileged_groups=privileged_groups)\n",
        "    \n",
        "    ba_arr_post[idx] = 0.5*(classified_metric_orig_valid_post.true_positive_rate()\\\n",
        "                       +classified_metric_orig_valid_post.true_negative_rate())\n",
        "\n",
        "best_ind_post = np.where(ba_arr_post == np.max(ba_arr_post))[0][0]\n",
        "best_class_thresh_post = class_thresh_arr_post[best_ind_post]\n",
        "\n",
        "print(\"Best balanced accuracy (no fairness constraints) = %.4f\" % np.max(ba_arr_post))\n",
        "print(\"Optimal classification threshold (no fairness constraints) = %.4f\" % best_class_thresh_post)"
      ],
      "metadata": {
        "colab": {
          "base_uri": "https://localhost:8080/"
        },
        "id": "1l66WShuVi-o",
        "outputId": "2d331261-fe75-4153-b158-a88122469004"
      },
      "execution_count": null,
      "outputs": [
        {
          "output_type": "stream",
          "name": "stdout",
          "text": [
            "Best balanced accuracy (no fairness constraints) = 0.7463\n",
            "Optimal classification threshold (no fairness constraints) = 0.2872\n"
          ]
        }
      ]
    },
    {
      "cell_type": "code",
      "source": [
        "ROC = RejectOptionClassification(unprivileged_groups=unprivileged_groups, \n",
        "                                 privileged_groups=privileged_groups, \n",
        "                                 low_class_thresh=0.01, high_class_thresh=0.99,\n",
        "                                  num_class_thresh=100, num_ROC_margin=50,\n",
        "                                  metric_name=metric_name,\n",
        "                                  metric_ub=metric_ub, metric_lb=metric_lb)\n",
        "ROC = ROC.fit(dataset_orig_valid_post, dataset_orig_valid_pred_post)"
      ],
      "metadata": {
        "id": "qq9HdpqOVmXY"
      },
      "execution_count": null,
      "outputs": []
    },
    {
      "cell_type": "code",
      "source": [
        "print(\"Optimal classification threshold (with fairness constraints) = %.4f\" % ROC.classification_threshold)\n",
        "print(\"Optimal ROC margin = %.4f\" % ROC.ROC_margin)"
      ],
      "metadata": {
        "colab": {
          "base_uri": "https://localhost:8080/"
        },
        "id": "85xkq4KjVsRr",
        "outputId": "0e4bf9d5-c111-448a-f62b-b633b826e9bd"
      },
      "execution_count": null,
      "outputs": [
        {
          "output_type": "stream",
          "name": "stdout",
          "text": [
            "Optimal classification threshold (with fairness constraints) = 0.1981\n",
            "Optimal ROC margin = 0.1011\n"
          ]
        }
      ]
    },
    {
      "cell_type": "code",
      "source": [
        "# Metrics for the test set\n",
        "fav_inds_post = dataset_orig_valid_pred_post.scores > best_class_thresh_post\n",
        "dataset_orig_valid_pred_post.labels[fav_inds_post] = dataset_orig_valid_pred_post.favorable_label\n",
        "dataset_orig_valid_pred_post.labels[~fav_inds_post] = dataset_orig_valid_pred_post.unfavorable_label\n",
        "\n",
        "display(Markdown(\"#### Validation set\"))\n",
        "display(Markdown(\"##### Raw predictions - No fairness constraints, only maximizing balanced accuracy\"))\n",
        "\n",
        "metric_valid_bef_post = compute_metrics(dataset_orig_valid_post, dataset_orig_valid_pred_post, \n",
        "                unprivileged_groups, privileged_groups)"
      ],
      "metadata": {
        "colab": {
          "base_uri": "https://localhost:8080/",
          "height": 164
        },
        "id": "iWSoc_aKWNJP",
        "outputId": "7e1bc916-0bff-4e94-ae6f-56bd1f553a88"
      },
      "execution_count": null,
      "outputs": [
        {
          "output_type": "display_data",
          "data": {
            "text/plain": [
              "<IPython.core.display.Markdown object>"
            ],
            "text/markdown": "#### Validation set"
          },
          "metadata": {}
        },
        {
          "output_type": "display_data",
          "data": {
            "text/plain": [
              "<IPython.core.display.Markdown object>"
            ],
            "text/markdown": "##### Raw predictions - No fairness constraints, only maximizing balanced accuracy"
          },
          "metadata": {}
        },
        {
          "output_type": "stream",
          "name": "stdout",
          "text": [
            "Balanced accuracy = 0.7463\n",
            "Statistical parity difference = -0.3670\n",
            "Average odds difference = -0.3140\n",
            "Equal opportunity difference = -0.3666\n"
          ]
        }
      ]
    },
    {
      "cell_type": "code",
      "source": [
        "# Transform the validation set\n",
        "dataset_transf_valid_pred_post = ROC.predict(dataset_orig_valid_pred_post)\n",
        "\n",
        "display(Markdown(\"#### Validation set\"))\n",
        "display(Markdown(\"##### Transformed predictions - With fairness constraints\"))\n",
        "metric_valid_aft_post = compute_metrics(dataset_orig_valid_post, dataset_transf_valid_pred_post, \n",
        "                unprivileged_groups, privileged_groups)"
      ],
      "metadata": {
        "colab": {
          "base_uri": "https://localhost:8080/",
          "height": 164
        },
        "id": "daW4VoDdWT7G",
        "outputId": "a05789c0-4625-4444-8bd8-a2a848813755"
      },
      "execution_count": null,
      "outputs": [
        {
          "output_type": "display_data",
          "data": {
            "text/plain": [
              "<IPython.core.display.Markdown object>"
            ],
            "text/markdown": "#### Validation set"
          },
          "metadata": {}
        },
        {
          "output_type": "display_data",
          "data": {
            "text/plain": [
              "<IPython.core.display.Markdown object>"
            ],
            "text/markdown": "##### Transformed predictions - With fairness constraints"
          },
          "metadata": {}
        },
        {
          "output_type": "stream",
          "name": "stdout",
          "text": [
            "Balanced accuracy = 0.7090\n",
            "Statistical parity difference = -0.0454\n",
            "Average odds difference = 0.0363\n",
            "Equal opportunity difference = 0.0197\n"
          ]
        }
      ]
    },
    {
      "cell_type": "code",
      "source": [
        "# Testing: Check if the metric optimized has not become worse\n",
        "assert np.abs(metric_valid_aft_post[metric_name]) <= np.abs(metric_valid_bef_post[metric_name])\n"
      ],
      "metadata": {
        "id": "zDdtxO3-WbNT"
      },
      "execution_count": null,
      "outputs": []
    },
    {
      "cell_type": "code",
      "source": [
        "# Metrics for the test set\n",
        "fav_inds_post = dataset_orig_test_pred_post.scores > best_class_thresh_post\n",
        "dataset_orig_test_pred_post.labels[fav_inds_post] = dataset_orig_test_pred_post.favorable_label\n",
        "dataset_orig_test_pred_post.labels[~fav_inds_post] = dataset_orig_test_pred_post.unfavorable_label\n",
        "\n",
        "display(Markdown(\"#### Test set\"))\n",
        "display(Markdown(\"##### Raw predictions - No fairness constraints, only maximizing balanced accuracy\"))\n",
        "print(\"Classification threshold used = %.4f\" % best_class_thresh_post)\n",
        "metric_test_bef_post = compute_metrics(dataset_orig_test_post, dataset_orig_test_pred_post, \n",
        "                unprivileged_groups, privileged_groups)"
      ],
      "metadata": {
        "colab": {
          "base_uri": "https://localhost:8080/",
          "height": 182
        },
        "id": "dnP56pYGWtK6",
        "outputId": "a66f9a54-0bbb-4edc-d9e8-d5c2c0dcb2ce"
      },
      "execution_count": null,
      "outputs": [
        {
          "output_type": "display_data",
          "data": {
            "text/plain": [
              "<IPython.core.display.Markdown object>"
            ],
            "text/markdown": "#### Test set"
          },
          "metadata": {}
        },
        {
          "output_type": "display_data",
          "data": {
            "text/plain": [
              "<IPython.core.display.Markdown object>"
            ],
            "text/markdown": "##### Raw predictions - No fairness constraints, only maximizing balanced accuracy"
          },
          "metadata": {}
        },
        {
          "output_type": "stream",
          "name": "stdout",
          "text": [
            "Classification threshold used = 0.2872\n",
            "Balanced accuracy = 0.7437\n",
            "Statistical parity difference = -0.3580\n",
            "Average odds difference = -0.3181\n",
            "Equal opportunity difference = -0.3769\n"
          ]
        }
      ]
    },
    {
      "cell_type": "code",
      "source": [
        "# Metrics for the transformed test set\n",
        "dataset_transf_test_pred_post = ROC.predict(dataset_orig_test_pred_post)\n",
        "\n",
        "display(Markdown(\"#### Test set\"))\n",
        "display(Markdown(\"##### Transformed predictions - With fairness constraints\"))\n",
        "print(\"Classification threshold used = %.4f\" % ROC.classification_threshold)\n",
        "metric_test_aft_post = compute_metrics(dataset_orig_test_post, dataset_transf_test_pred_post, \n",
        "                unprivileged_groups, privileged_groups)"
      ],
      "metadata": {
        "colab": {
          "base_uri": "https://localhost:8080/",
          "height": 182
        },
        "id": "Mhh6l3HAWvVE",
        "outputId": "d8259ace-0bb0-4054-8f06-dc3e39a74006"
      },
      "execution_count": null,
      "outputs": [
        {
          "output_type": "display_data",
          "data": {
            "text/plain": [
              "<IPython.core.display.Markdown object>"
            ],
            "text/markdown": "#### Test set"
          },
          "metadata": {}
        },
        {
          "output_type": "display_data",
          "data": {
            "text/plain": [
              "<IPython.core.display.Markdown object>"
            ],
            "text/markdown": "##### Transformed predictions - With fairness constraints"
          },
          "metadata": {}
        },
        {
          "output_type": "stream",
          "name": "stdout",
          "text": [
            "Classification threshold used = 0.1981\n",
            "Balanced accuracy = 0.7141\n",
            "Statistical parity difference = -0.0402\n",
            "Average odds difference = 0.0423\n",
            "Equal opportunity difference = 0.0407\n"
          ]
        }
      ]
    },
    {
      "cell_type": "code",
      "source": [
        ""
      ],
      "metadata": {
        "id": "ARsAdJ1hSglN"
      },
      "execution_count": null,
      "outputs": []
    }
  ]
}